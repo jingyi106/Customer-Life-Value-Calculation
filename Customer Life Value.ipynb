{
 "cells": [
  {
   "cell_type": "code",
   "execution_count": 1,
   "id": "41d859b2",
   "metadata": {},
   "outputs": [],
   "source": [
    "import numpy as np\n",
    "import pandas as pd\n",
    "import matplotlib.pyplot as plt\n",
    "import datetime\n",
    "from datetime import *"
   ]
  },
  {
   "cell_type": "markdown",
   "id": "1932ff58",
   "metadata": {},
   "source": [
    "# Step1: Understand the data"
   ]
  },
  {
   "cell_type": "code",
   "execution_count": 2,
   "id": "aa95a4d5",
   "metadata": {},
   "outputs": [],
   "source": [
    "data=pd.read_csv('/Users/jingyiran/pythonwork/ds for product/homework1/HW1 clv_transactions.csv',header=0)"
   ]
  },
  {
   "cell_type": "code",
   "execution_count": 3,
   "id": "831c5a7b",
   "metadata": {},
   "outputs": [
    {
     "data": {
      "text/html": [
       "<div>\n",
       "<style scoped>\n",
       "    .dataframe tbody tr th:only-of-type {\n",
       "        vertical-align: middle;\n",
       "    }\n",
       "\n",
       "    .dataframe tbody tr th {\n",
       "        vertical-align: top;\n",
       "    }\n",
       "\n",
       "    .dataframe thead th {\n",
       "        text-align: right;\n",
       "    }\n",
       "</style>\n",
       "<table border=\"1\" class=\"dataframe\">\n",
       "  <thead>\n",
       "    <tr style=\"text-align: right;\">\n",
       "      <th></th>\n",
       "      <th>TransactionID</th>\n",
       "      <th>TransactionDate</th>\n",
       "      <th>CustomerID</th>\n",
       "      <th>Amount</th>\n",
       "    </tr>\n",
       "  </thead>\n",
       "  <tbody>\n",
       "    <tr>\n",
       "      <th>0</th>\n",
       "      <td>1</td>\n",
       "      <td>9/4/2012</td>\n",
       "      <td>1</td>\n",
       "      <td>20.26</td>\n",
       "    </tr>\n",
       "    <tr>\n",
       "      <th>1</th>\n",
       "      <td>2</td>\n",
       "      <td>5/15/2012</td>\n",
       "      <td>2</td>\n",
       "      <td>10.87</td>\n",
       "    </tr>\n",
       "    <tr>\n",
       "      <th>2</th>\n",
       "      <td>3</td>\n",
       "      <td>5/23/2014</td>\n",
       "      <td>2</td>\n",
       "      <td>2.21</td>\n",
       "    </tr>\n",
       "    <tr>\n",
       "      <th>3</th>\n",
       "      <td>4</td>\n",
       "      <td>10/24/2014</td>\n",
       "      <td>2</td>\n",
       "      <td>10.48</td>\n",
       "    </tr>\n",
       "    <tr>\n",
       "      <th>4</th>\n",
       "      <td>5</td>\n",
       "      <td>10/13/2012</td>\n",
       "      <td>2</td>\n",
       "      <td>3.94</td>\n",
       "    </tr>\n",
       "  </tbody>\n",
       "</table>\n",
       "</div>"
      ],
      "text/plain": [
       "   TransactionID TransactionDate  CustomerID  Amount\n",
       "0              1        9/4/2012           1   20.26\n",
       "1              2       5/15/2012           2   10.87\n",
       "2              3       5/23/2014           2    2.21\n",
       "3              4      10/24/2014           2   10.48\n",
       "4              5      10/13/2012           2    3.94"
      ]
     },
     "execution_count": 3,
     "metadata": {},
     "output_type": "execute_result"
    }
   ],
   "source": [
    "data.head()"
   ]
  },
  {
   "cell_type": "code",
   "execution_count": 4,
   "id": "2e122544",
   "metadata": {},
   "outputs": [
    {
     "data": {
      "text/html": [
       "<div>\n",
       "<style scoped>\n",
       "    .dataframe tbody tr th:only-of-type {\n",
       "        vertical-align: middle;\n",
       "    }\n",
       "\n",
       "    .dataframe tbody tr th {\n",
       "        vertical-align: top;\n",
       "    }\n",
       "\n",
       "    .dataframe thead th {\n",
       "        text-align: right;\n",
       "    }\n",
       "</style>\n",
       "<table border=\"1\" class=\"dataframe\">\n",
       "  <thead>\n",
       "    <tr style=\"text-align: right;\">\n",
       "      <th></th>\n",
       "      <th>TransactionID</th>\n",
       "      <th>CustomerID</th>\n",
       "      <th>Amount</th>\n",
       "    </tr>\n",
       "  </thead>\n",
       "  <tbody>\n",
       "    <tr>\n",
       "      <th>count</th>\n",
       "      <td>4186.000000</td>\n",
       "      <td>4186.000000</td>\n",
       "      <td>4186.000000</td>\n",
       "    </tr>\n",
       "    <tr>\n",
       "      <th>mean</th>\n",
       "      <td>2093.500000</td>\n",
       "      <td>516.165791</td>\n",
       "      <td>9.028082</td>\n",
       "    </tr>\n",
       "    <tr>\n",
       "      <th>std</th>\n",
       "      <td>1208.538442</td>\n",
       "      <td>291.465283</td>\n",
       "      <td>38.723909</td>\n",
       "    </tr>\n",
       "    <tr>\n",
       "      <th>min</th>\n",
       "      <td>1.000000</td>\n",
       "      <td>1.000000</td>\n",
       "      <td>-1.000000</td>\n",
       "    </tr>\n",
       "    <tr>\n",
       "      <th>25%</th>\n",
       "      <td>1047.250000</td>\n",
       "      <td>270.000000</td>\n",
       "      <td>3.310000</td>\n",
       "    </tr>\n",
       "    <tr>\n",
       "      <th>50%</th>\n",
       "      <td>2093.500000</td>\n",
       "      <td>522.000000</td>\n",
       "      <td>6.885000</td>\n",
       "    </tr>\n",
       "    <tr>\n",
       "      <th>75%</th>\n",
       "      <td>3139.750000</td>\n",
       "      <td>762.750000</td>\n",
       "      <td>11.690000</td>\n",
       "    </tr>\n",
       "    <tr>\n",
       "      <th>max</th>\n",
       "      <td>4186.000000</td>\n",
       "      <td>1000.000000</td>\n",
       "      <td>2033.000000</td>\n",
       "    </tr>\n",
       "  </tbody>\n",
       "</table>\n",
       "</div>"
      ],
      "text/plain": [
       "       TransactionID   CustomerID       Amount\n",
       "count    4186.000000  4186.000000  4186.000000\n",
       "mean     2093.500000   516.165791     9.028082\n",
       "std      1208.538442   291.465283    38.723909\n",
       "min         1.000000     1.000000    -1.000000\n",
       "25%      1047.250000   270.000000     3.310000\n",
       "50%      2093.500000   522.000000     6.885000\n",
       "75%      3139.750000   762.750000    11.690000\n",
       "max      4186.000000  1000.000000  2033.000000"
      ]
     },
     "execution_count": 4,
     "metadata": {},
     "output_type": "execute_result"
    }
   ],
   "source": [
    "data.describe()"
   ]
  },
  {
   "cell_type": "markdown",
   "id": "cd881cff",
   "metadata": {},
   "source": [
    "## 1. Are there any missing values ?"
   ]
  },
  {
   "cell_type": "code",
   "execution_count": 5,
   "id": "0c0db16b",
   "metadata": {},
   "outputs": [
    {
     "data": {
      "text/plain": [
       "False"
      ]
     },
     "execution_count": 5,
     "metadata": {},
     "output_type": "execute_result"
    }
   ],
   "source": [
    "data.isnull().any().any()"
   ]
  },
  {
   "cell_type": "markdown",
   "id": "da5ced46",
   "metadata": {},
   "source": [
    "## 2. What's the range of dates?"
   ]
  },
  {
   "cell_type": "code",
   "execution_count": 6,
   "id": "ba54628f",
   "metadata": {},
   "outputs": [
    {
     "data": {
      "text/plain": [
       "'1/1/2011'"
      ]
     },
     "execution_count": 6,
     "metadata": {},
     "output_type": "execute_result"
    }
   ],
   "source": [
    "# Lower Bound\n",
    "data['TransactionDate'].min()"
   ]
  },
  {
   "cell_type": "code",
   "execution_count": 7,
   "id": "b0eff3a1",
   "metadata": {},
   "outputs": [
    {
     "data": {
      "text/plain": [
       "'9/9/2015'"
      ]
     },
     "execution_count": 7,
     "metadata": {},
     "output_type": "execute_result"
    }
   ],
   "source": [
    "# Upper Bound\n",
    "data['TransactionDate'].max()"
   ]
  },
  {
   "cell_type": "markdown",
   "id": "2be56a56",
   "metadata": {},
   "source": [
    "## 3. How many unique customers?"
   ]
  },
  {
   "cell_type": "code",
   "execution_count": 8,
   "id": "a1f2cec3",
   "metadata": {},
   "outputs": [
    {
     "data": {
      "text/html": [
       "<div>\n",
       "<style scoped>\n",
       "    .dataframe tbody tr th:only-of-type {\n",
       "        vertical-align: middle;\n",
       "    }\n",
       "\n",
       "    .dataframe tbody tr th {\n",
       "        vertical-align: top;\n",
       "    }\n",
       "\n",
       "    .dataframe thead th {\n",
       "        text-align: right;\n",
       "    }\n",
       "</style>\n",
       "<table border=\"1\" class=\"dataframe\">\n",
       "  <thead>\n",
       "    <tr style=\"text-align: right;\">\n",
       "      <th></th>\n",
       "      <th>TransactionID</th>\n",
       "      <th>TransactionDate</th>\n",
       "      <th>Amount</th>\n",
       "    </tr>\n",
       "    <tr>\n",
       "      <th>CustomerID</th>\n",
       "      <th></th>\n",
       "      <th></th>\n",
       "      <th></th>\n",
       "    </tr>\n",
       "  </thead>\n",
       "  <tbody>\n",
       "    <tr>\n",
       "      <th>1</th>\n",
       "      <td>1</td>\n",
       "      <td>1</td>\n",
       "      <td>1</td>\n",
       "    </tr>\n",
       "    <tr>\n",
       "      <th>2</th>\n",
       "      <td>8</td>\n",
       "      <td>8</td>\n",
       "      <td>8</td>\n",
       "    </tr>\n",
       "    <tr>\n",
       "      <th>3</th>\n",
       "      <td>7</td>\n",
       "      <td>7</td>\n",
       "      <td>7</td>\n",
       "    </tr>\n",
       "    <tr>\n",
       "      <th>4</th>\n",
       "      <td>1</td>\n",
       "      <td>1</td>\n",
       "      <td>1</td>\n",
       "    </tr>\n",
       "    <tr>\n",
       "      <th>5</th>\n",
       "      <td>2</td>\n",
       "      <td>2</td>\n",
       "      <td>2</td>\n",
       "    </tr>\n",
       "    <tr>\n",
       "      <th>...</th>\n",
       "      <td>...</td>\n",
       "      <td>...</td>\n",
       "      <td>...</td>\n",
       "    </tr>\n",
       "    <tr>\n",
       "      <th>996</th>\n",
       "      <td>2</td>\n",
       "      <td>2</td>\n",
       "      <td>2</td>\n",
       "    </tr>\n",
       "    <tr>\n",
       "      <th>997</th>\n",
       "      <td>2</td>\n",
       "      <td>2</td>\n",
       "      <td>2</td>\n",
       "    </tr>\n",
       "    <tr>\n",
       "      <th>998</th>\n",
       "      <td>8</td>\n",
       "      <td>8</td>\n",
       "      <td>8</td>\n",
       "    </tr>\n",
       "    <tr>\n",
       "      <th>999</th>\n",
       "      <td>3</td>\n",
       "      <td>3</td>\n",
       "      <td>3</td>\n",
       "    </tr>\n",
       "    <tr>\n",
       "      <th>1000</th>\n",
       "      <td>20</td>\n",
       "      <td>20</td>\n",
       "      <td>20</td>\n",
       "    </tr>\n",
       "  </tbody>\n",
       "</table>\n",
       "<p>1000 rows × 3 columns</p>\n",
       "</div>"
      ],
      "text/plain": [
       "            TransactionID  TransactionDate  Amount\n",
       "CustomerID                                        \n",
       "1                       1                1       1\n",
       "2                       8                8       8\n",
       "3                       7                7       7\n",
       "4                       1                1       1\n",
       "5                       2                2       2\n",
       "...                   ...              ...     ...\n",
       "996                     2                2       2\n",
       "997                     2                2       2\n",
       "998                     8                8       8\n",
       "999                     3                3       3\n",
       "1000                   20               20      20\n",
       "\n",
       "[1000 rows x 3 columns]"
      ]
     },
     "execution_count": 8,
     "metadata": {},
     "output_type": "execute_result"
    }
   ],
   "source": [
    "data.groupby(['CustomerID']).count()"
   ]
  },
  {
   "cell_type": "markdown",
   "id": "618baa26",
   "metadata": {},
   "source": [
    "#### There are 1000 rows in total, thus there are 1000 unique customers"
   ]
  },
  {
   "cell_type": "markdown",
   "id": "201657e5",
   "metadata": {},
   "source": [
    "## 4. Explore the Amount field"
   ]
  },
  {
   "cell_type": "code",
   "execution_count": 9,
   "id": "f6784e29",
   "metadata": {},
   "outputs": [
    {
     "name": "stdout",
     "output_type": "stream",
     "text": [
      "Minimum value of the amount: -1.0\n",
      "Maximum value of the amount: 2033.0\n",
      "Mean value of the amount: 9.028081700907789\n",
      "Variance of the amount: 1499.5411107517464\n",
      "Standard deviation of the amount: 38.72390877418945\n"
     ]
    }
   ],
   "source": [
    "# min \n",
    "print('Minimum value of the amount: '+str(data['Amount'].min()))\n",
    "# max\n",
    "print('Maximum value of the amount: '+str(data['Amount'].max()))\n",
    "# mean\n",
    "print('Mean value of the amount: '+str(data['Amount'].mean()))\n",
    "# variance\n",
    "print('Variance of the amount: '+str(data['Amount'].var()))\n",
    "# std\n",
    "print('Standard deviation of the amount: '+str(data['Amount'].std()))"
   ]
  },
  {
   "cell_type": "markdown",
   "id": "068066a3",
   "metadata": {},
   "source": [
    "#### From the result, we can get that the minimum value must be a mistake because the amount cannot be less than 0; the maximum value might be an outlier because it's more than 3 std away from the mean"
   ]
  },
  {
   "cell_type": "markdown",
   "id": "4c1eaff5",
   "metadata": {},
   "source": [
    "## 5. Do transaction amounts in general increase over time?"
   ]
  },
  {
   "cell_type": "code",
   "execution_count": 10,
   "id": "e7acccf5",
   "metadata": {},
   "outputs": [
    {
     "data": {
      "image/png": "[encoded data removed]",
      "text/plain": [
       "<Figure size 720x504 with 1 Axes>"
      ]
     },
     "metadata": {
      "needs_background": "light"
     },
     "output_type": "display_data"
    }
   ],
   "source": [
    "# Generate the scatter plot: the y-axis is the amout and x-axis is the transaction dates\n",
    "plt.figure(figsize=(10,7))\n",
    "plt.scatter(pd.to_datetime(data['TransactionDate']),data['Amount'],color = \"skyblue\")\n",
    "plt.xlabel('Time')\n",
    "plt.ylabel('Amount')\n",
    "plt.title('The relatioship between transaction amount and time')\n",
    "plt.show()"
   ]
  },
  {
   "cell_type": "markdown",
   "id": "ac20d8a2",
   "metadata": {},
   "source": [
    "#### From the result, we can see there are 3 outliers. To get a better trend, we choose to delete them and then plot again"
   ]
  },
  {
   "cell_type": "code",
   "execution_count": 11,
   "id": "c818c6ea",
   "metadata": {},
   "outputs": [
    {
     "data": {
      "image/png": "[encoded data removed]",
      "text/plain": [
       "<Figure size 720x504 with 1 Axes>"
      ]
     },
     "metadata": {
      "needs_background": "light"
     },
     "output_type": "display_data"
    }
   ],
   "source": [
    "data1=data[data['Amount']<500]\n",
    "data1=data1[data1['Amount']>0]\n",
    "plt.figure(figsize=(10,7))\n",
    "plt.scatter(pd.to_datetime(data1['TransactionDate']),data1['Amount'],color = \"skyblue\")\n",
    "plt.xlabel('Time')\n",
    "plt.ylabel('Amount')\n",
    "plt.title('The relatioship between transaction amount and time')\n",
    "plt.show()"
   ]
  },
  {
   "cell_type": "markdown",
   "id": "c620d8f9",
   "metadata": {},
   "source": [
    "#### From the plot, we cannot see the upwarding trend, and we cannot conclude the transaction amounts increased over time. To make the plot simpler, we choose to set the x-axis as year"
   ]
  },
  {
   "cell_type": "code",
   "execution_count": 12,
   "id": "8e5dc377",
   "metadata": {},
   "outputs": [
    {
     "data": {
      "image/png": "[encoded data removed]",
      "text/plain": [
       "<Figure size 720x504 with 1 Axes>"
      ]
     },
     "metadata": {
      "needs_background": "light"
     },
     "output_type": "display_data"
    }
   ],
   "source": [
    "# Generate the scatter plot: the y-axis is the amout and x-axis is the transaction year\n",
    "plt.figure(figsize=(10,7))\n",
    "plt.scatter(pd.to_datetime(data1['TransactionDate']).dt.year,data1['Amount'],color = \"skyblue\")\n",
    "plt.xlabel('Year')\n",
    "plt.ylabel('Amount')\n",
    "plt.title('The relatioship between transaction amount and year')\n",
    "plt.show()"
   ]
  },
  {
   "cell_type": "markdown",
   "id": "cb003c29",
   "metadata": {},
   "source": [
    "#### The concusion is the same as the former plot: we cannot conclude the transaction amounts increased over time"
   ]
  },
  {
   "cell_type": "code",
   "execution_count": null,
   "id": "273607b2",
   "metadata": {},
   "outputs": [],
   "source": []
  },
  {
   "cell_type": "markdown",
   "id": "57b209e9",
   "metadata": {},
   "source": [
    "# Step2: Explore the dataset"
   ]
  },
  {
   "cell_type": "code",
   "execution_count": 13,
   "id": "5c125842",
   "metadata": {},
   "outputs": [
    {
     "data": {
      "image/png": "[encoded data removed]",
      "text/plain": [
       "<Figure size 720x504 with 1 Axes>"
      ]
     },
     "metadata": {
      "needs_background": "light"
     },
     "output_type": "display_data"
    }
   ],
   "source": [
    "# plot the histogram to see if there is any outlier\n",
    "plt.figure(figsize=(10,7))\n",
    "bins=8\n",
    "nums,bins,patches=plt.hist(data['Amount'], color = \"skyblue\",edgecolor='black',bins=bins)\n",
    "for num,bin in zip(nums,bins):\n",
    "    plt.annotate(int(num),xy=(bin,num),xytext=(bin,num+4)) \n",
    "plt.xlabel('Amount')\n",
    "plt.ylabel('Count')\n",
    "plt.title('Amount count in different intervals')\n",
    "plt.show()"
   ]
  },
  {
   "cell_type": "markdown",
   "id": "a1a2b670",
   "metadata": {},
   "source": [
    "#### From the result we can get that there are 3 outliers in Amont column, one is in [750-1000], one is in [1000,1250] and one is in[1750,2000]. Since there are more than 4000 observations and only 3 outliers, just delete them"
   ]
  },
  {
   "cell_type": "code",
   "execution_count": 14,
   "id": "04913190",
   "metadata": {},
   "outputs": [],
   "source": [
    "data=data[data['Amount']<500]"
   ]
  },
  {
   "cell_type": "code",
   "execution_count": 15,
   "id": "e8154e32",
   "metadata": {},
   "outputs": [
    {
     "data": {
      "image/png": "[encoded data removed]",
      "text/plain": [
       "<Figure size 720x504 with 1 Axes>"
      ]
     },
     "metadata": {
      "needs_background": "light"
     },
     "output_type": "display_data"
    }
   ],
   "source": [
    "# Plot the histogram again to see the result\n",
    "plt.figure(figsize=(10,7))\n",
    "bins=10\n",
    "nums,bins,patches=plt.hist(data['Amount'], color = \"skyblue\",edgecolor='black',bins=bins)\n",
    "for num,bin in zip(nums,bins):\n",
    "    plt.annotate(int(num),xy=(bin,num),xytext=(bin,num+6)) \n",
    "plt.xlabel('Amount')\n",
    "plt.ylabel('Count')\n",
    "plt.title('Amount count in different intervals')\n",
    "plt.show()"
   ]
  },
  {
   "cell_type": "code",
   "execution_count": null,
   "id": "7192296b",
   "metadata": {},
   "outputs": [],
   "source": []
  },
  {
   "cell_type": "markdown",
   "id": "4c10bcf2",
   "metadata": {},
   "source": [
    "# Step 3: Determine origin year of customers"
   ]
  },
  {
   "cell_type": "code",
   "execution_count": 16,
   "id": "0642fd7f",
   "metadata": {},
   "outputs": [
    {
     "data": {
      "text/html": [
       "<div>\n",
       "<style scoped>\n",
       "    .dataframe tbody tr th:only-of-type {\n",
       "        vertical-align: middle;\n",
       "    }\n",
       "\n",
       "    .dataframe tbody tr th {\n",
       "        vertical-align: top;\n",
       "    }\n",
       "\n",
       "    .dataframe thead th {\n",
       "        text-align: right;\n",
       "    }\n",
       "</style>\n",
       "<table border=\"1\" class=\"dataframe\">\n",
       "  <thead>\n",
       "    <tr style=\"text-align: right;\">\n",
       "      <th></th>\n",
       "      <th>TransactionID</th>\n",
       "      <th>TransactionDate</th>\n",
       "      <th>CustomerID</th>\n",
       "      <th>Amount</th>\n",
       "      <th>earlist_year</th>\n",
       "    </tr>\n",
       "  </thead>\n",
       "  <tbody>\n",
       "    <tr>\n",
       "      <th>0</th>\n",
       "      <td>1</td>\n",
       "      <td>2012-09-04</td>\n",
       "      <td>1</td>\n",
       "      <td>20.26</td>\n",
       "      <td>2012</td>\n",
       "    </tr>\n",
       "    <tr>\n",
       "      <th>1</th>\n",
       "      <td>2</td>\n",
       "      <td>2012-05-15</td>\n",
       "      <td>2</td>\n",
       "      <td>10.87</td>\n",
       "      <td>2012</td>\n",
       "    </tr>\n",
       "    <tr>\n",
       "      <th>2</th>\n",
       "      <td>3</td>\n",
       "      <td>2014-05-23</td>\n",
       "      <td>2</td>\n",
       "      <td>2.21</td>\n",
       "      <td>2012</td>\n",
       "    </tr>\n",
       "    <tr>\n",
       "      <th>3</th>\n",
       "      <td>4</td>\n",
       "      <td>2014-10-24</td>\n",
       "      <td>2</td>\n",
       "      <td>10.48</td>\n",
       "      <td>2012</td>\n",
       "    </tr>\n",
       "    <tr>\n",
       "      <th>4</th>\n",
       "      <td>5</td>\n",
       "      <td>2012-10-13</td>\n",
       "      <td>2</td>\n",
       "      <td>3.94</td>\n",
       "      <td>2012</td>\n",
       "    </tr>\n",
       "    <tr>\n",
       "      <th>...</th>\n",
       "      <td>...</td>\n",
       "      <td>...</td>\n",
       "      <td>...</td>\n",
       "      <td>...</td>\n",
       "      <td>...</td>\n",
       "    </tr>\n",
       "    <tr>\n",
       "      <th>4178</th>\n",
       "      <td>4182</td>\n",
       "      <td>2013-06-23</td>\n",
       "      <td>1000</td>\n",
       "      <td>3.86</td>\n",
       "      <td>2010</td>\n",
       "    </tr>\n",
       "    <tr>\n",
       "      <th>4179</th>\n",
       "      <td>4183</td>\n",
       "      <td>2011-08-07</td>\n",
       "      <td>1000</td>\n",
       "      <td>4.00</td>\n",
       "      <td>2010</td>\n",
       "    </tr>\n",
       "    <tr>\n",
       "      <th>4180</th>\n",
       "      <td>4184</td>\n",
       "      <td>2012-10-07</td>\n",
       "      <td>1000</td>\n",
       "      <td>18.37</td>\n",
       "      <td>2010</td>\n",
       "    </tr>\n",
       "    <tr>\n",
       "      <th>4181</th>\n",
       "      <td>4185</td>\n",
       "      <td>2014-01-09</td>\n",
       "      <td>1000</td>\n",
       "      <td>3.45</td>\n",
       "      <td>2010</td>\n",
       "    </tr>\n",
       "    <tr>\n",
       "      <th>4182</th>\n",
       "      <td>4186</td>\n",
       "      <td>2011-04-30</td>\n",
       "      <td>1000</td>\n",
       "      <td>5.18</td>\n",
       "      <td>2010</td>\n",
       "    </tr>\n",
       "  </tbody>\n",
       "</table>\n",
       "<p>4183 rows × 5 columns</p>\n",
       "</div>"
      ],
      "text/plain": [
       "      TransactionID TransactionDate  CustomerID  Amount  earlist_year\n",
       "0                 1      2012-09-04           1   20.26          2012\n",
       "1                 2      2012-05-15           2   10.87          2012\n",
       "2                 3      2014-05-23           2    2.21          2012\n",
       "3                 4      2014-10-24           2   10.48          2012\n",
       "4                 5      2012-10-13           2    3.94          2012\n",
       "...             ...             ...         ...     ...           ...\n",
       "4178           4182      2013-06-23        1000    3.86          2010\n",
       "4179           4183      2011-08-07        1000    4.00          2010\n",
       "4180           4184      2012-10-07        1000   18.37          2010\n",
       "4181           4185      2014-01-09        1000    3.45          2010\n",
       "4182           4186      2011-04-30        1000    5.18          2010\n",
       "\n",
       "[4183 rows x 5 columns]"
      ]
     },
     "execution_count": 16,
     "metadata": {},
     "output_type": "execute_result"
    }
   ],
   "source": [
    "# Add a new colum 'earlist_year', which shows the year each customer firstly made the transaction\n",
    "data['TransactionDate']=pd.to_datetime(data['TransactionDate'])\n",
    "Date_table=data.groupby(['CustomerID'])['TransactionDate'].min().reset_index()   \n",
    "Date_table['earlist_year']=Date_table['TransactionDate'].dt.year\n",
    "del(Date_table['TransactionDate'])\n",
    "data_new=pd.merge(data,Date_table,on='CustomerID')\n",
    "data_new"
   ]
  },
  {
   "cell_type": "code",
   "execution_count": null,
   "id": "a52b157c",
   "metadata": {},
   "outputs": [],
   "source": []
  },
  {
   "cell_type": "markdown",
   "id": "f20dc55b",
   "metadata": {},
   "source": [
    "# Step4: Calculate cumulative transaction amounts"
   ]
  },
  {
   "cell_type": "code",
   "execution_count": 17,
   "id": "c9789f1e",
   "metadata": {},
   "outputs": [],
   "source": [
    "# Add a new colum 'earlist_date', which is the first day of the 'earlist_year'\n",
    "# Add a new colum 'interval', which is the difference in year between TransactionDate and earlist_date\n",
    "new_date=[]\n",
    "for i in data_new['earlist_year']:\n",
    "    new_date.append(date(i,1,1))\n",
    "data_new['earlist_date']=pd.to_datetime(pd.Series(new_date))\n",
    "data_new['interval']=(data_new['TransactionDate']-data_new['earlist_date']).astype('timedelta64[D]')/365"
   ]
  },
  {
   "cell_type": "code",
   "execution_count": 18,
   "id": "93317054",
   "metadata": {},
   "outputs": [],
   "source": [
    "# Add a new colum 'interval_int', which upper round the interval\n",
    "data_new['interval_int']=data_new['interval'].astype(int)+1"
   ]
  },
  {
   "cell_type": "code",
   "execution_count": 19,
   "id": "fd42ac92",
   "metadata": {},
   "outputs": [],
   "source": [
    "# Add a new colum 'interval_final', which mutiply interval_int by 12\n",
    "data_new['interval_final']=data_new['interval_int']*12"
   ]
  },
  {
   "cell_type": "code",
   "execution_count": 20,
   "id": "90f0b907",
   "metadata": {},
   "outputs": [
    {
     "data": {
      "text/html": [
       "<div>\n",
       "<style scoped>\n",
       "    .dataframe tbody tr th:only-of-type {\n",
       "        vertical-align: middle;\n",
       "    }\n",
       "\n",
       "    .dataframe tbody tr th {\n",
       "        vertical-align: top;\n",
       "    }\n",
       "\n",
       "    .dataframe thead th {\n",
       "        text-align: right;\n",
       "    }\n",
       "</style>\n",
       "<table border=\"1\" class=\"dataframe\">\n",
       "  <thead>\n",
       "    <tr style=\"text-align: right;\">\n",
       "      <th></th>\n",
       "      <th>earlist_year</th>\n",
       "      <th>interval_final</th>\n",
       "      <th>Amount</th>\n",
       "    </tr>\n",
       "  </thead>\n",
       "  <tbody>\n",
       "    <tr>\n",
       "      <th>0</th>\n",
       "      <td>2010</td>\n",
       "      <td>12</td>\n",
       "      <td>2259.67</td>\n",
       "    </tr>\n",
       "    <tr>\n",
       "      <th>1</th>\n",
       "      <td>2010</td>\n",
       "      <td>24</td>\n",
       "      <td>3614.78</td>\n",
       "    </tr>\n",
       "    <tr>\n",
       "      <th>2</th>\n",
       "      <td>2010</td>\n",
       "      <td>36</td>\n",
       "      <td>5274.81</td>\n",
       "    </tr>\n",
       "    <tr>\n",
       "      <th>3</th>\n",
       "      <td>2010</td>\n",
       "      <td>48</td>\n",
       "      <td>6624.83</td>\n",
       "    </tr>\n",
       "    <tr>\n",
       "      <th>4</th>\n",
       "      <td>2010</td>\n",
       "      <td>60</td>\n",
       "      <td>7930.69</td>\n",
       "    </tr>\n",
       "    <tr>\n",
       "      <th>5</th>\n",
       "      <td>2010</td>\n",
       "      <td>72</td>\n",
       "      <td>8964.49</td>\n",
       "    </tr>\n",
       "    <tr>\n",
       "      <th>6</th>\n",
       "      <td>2011</td>\n",
       "      <td>12</td>\n",
       "      <td>2238.46</td>\n",
       "    </tr>\n",
       "    <tr>\n",
       "      <th>7</th>\n",
       "      <td>2011</td>\n",
       "      <td>24</td>\n",
       "      <td>3745.82</td>\n",
       "    </tr>\n",
       "    <tr>\n",
       "      <th>8</th>\n",
       "      <td>2011</td>\n",
       "      <td>36</td>\n",
       "      <td>5434.68</td>\n",
       "    </tr>\n",
       "    <tr>\n",
       "      <th>9</th>\n",
       "      <td>2011</td>\n",
       "      <td>48</td>\n",
       "      <td>6702.11</td>\n",
       "    </tr>\n",
       "    <tr>\n",
       "      <th>10</th>\n",
       "      <td>2011</td>\n",
       "      <td>60</td>\n",
       "      <td>7861.24</td>\n",
       "    </tr>\n",
       "    <tr>\n",
       "      <th>11</th>\n",
       "      <td>2012</td>\n",
       "      <td>12</td>\n",
       "      <td>2181.35</td>\n",
       "    </tr>\n",
       "    <tr>\n",
       "      <th>12</th>\n",
       "      <td>2012</td>\n",
       "      <td>24</td>\n",
       "      <td>3874.69</td>\n",
       "    </tr>\n",
       "    <tr>\n",
       "      <th>13</th>\n",
       "      <td>2012</td>\n",
       "      <td>36</td>\n",
       "      <td>5226.86</td>\n",
       "    </tr>\n",
       "    <tr>\n",
       "      <th>14</th>\n",
       "      <td>2012</td>\n",
       "      <td>48</td>\n",
       "      <td>6501.85</td>\n",
       "    </tr>\n",
       "    <tr>\n",
       "      <th>15</th>\n",
       "      <td>2013</td>\n",
       "      <td>12</td>\n",
       "      <td>2179.85</td>\n",
       "    </tr>\n",
       "    <tr>\n",
       "      <th>16</th>\n",
       "      <td>2013</td>\n",
       "      <td>24</td>\n",
       "      <td>3608.81</td>\n",
       "    </tr>\n",
       "    <tr>\n",
       "      <th>17</th>\n",
       "      <td>2013</td>\n",
       "      <td>36</td>\n",
       "      <td>5226.75</td>\n",
       "    </tr>\n",
       "    <tr>\n",
       "      <th>18</th>\n",
       "      <td>2014</td>\n",
       "      <td>12</td>\n",
       "      <td>1830.85</td>\n",
       "    </tr>\n",
       "    <tr>\n",
       "      <th>19</th>\n",
       "      <td>2014</td>\n",
       "      <td>24</td>\n",
       "      <td>3262.05</td>\n",
       "    </tr>\n",
       "    <tr>\n",
       "      <th>20</th>\n",
       "      <td>2015</td>\n",
       "      <td>12</td>\n",
       "      <td>1912.17</td>\n",
       "    </tr>\n",
       "  </tbody>\n",
       "</table>\n",
       "</div>"
      ],
      "text/plain": [
       "    earlist_year  interval_final   Amount\n",
       "0           2010              12  2259.67\n",
       "1           2010              24  3614.78\n",
       "2           2010              36  5274.81\n",
       "3           2010              48  6624.83\n",
       "4           2010              60  7930.69\n",
       "5           2010              72  8964.49\n",
       "6           2011              12  2238.46\n",
       "7           2011              24  3745.82\n",
       "8           2011              36  5434.68\n",
       "9           2011              48  6702.11\n",
       "10          2011              60  7861.24\n",
       "11          2012              12  2181.35\n",
       "12          2012              24  3874.69\n",
       "13          2012              36  5226.86\n",
       "14          2012              48  6501.85\n",
       "15          2013              12  2179.85\n",
       "16          2013              24  3608.81\n",
       "17          2013              36  5226.75\n",
       "18          2014              12  1830.85\n",
       "19          2014              24  3262.05\n",
       "20          2015              12  1912.17"
      ]
     },
     "execution_count": 20,
     "metadata": {},
     "output_type": "execute_result"
    }
   ],
   "source": [
    "# To do the cumulative sum calculation: apply groupby to group the data by 'earlist_year' and 'interval_final'\n",
    "data_new1=data_new[['earlist_year','Amount','interval_final']]\n",
    "data_new2=data_new1.groupby(['earlist_year', 'interval_final']).sum()\n",
    "data_new3=data_new1.groupby(['earlist_year', 'interval_final']).sum().groupby(['earlist_year']).cumsum().reset_index()\n",
    "data_new3"
   ]
  },
  {
   "cell_type": "code",
   "execution_count": 21,
   "id": "9607d8a5",
   "metadata": {},
   "outputs": [],
   "source": [
    "# Index the dataframe to get the data at each interval\n",
    "# Here is a sample for interval_fianl=12"
   ]
  },
  {
   "cell_type": "code",
   "execution_count": 22,
   "id": "5e30cd13",
   "metadata": {},
   "outputs": [
    {
     "data": {
      "text/html": [
       "<div>\n",
       "<style scoped>\n",
       "    .dataframe tbody tr th:only-of-type {\n",
       "        vertical-align: middle;\n",
       "    }\n",
       "\n",
       "    .dataframe tbody tr th {\n",
       "        vertical-align: top;\n",
       "    }\n",
       "\n",
       "    .dataframe thead th {\n",
       "        text-align: right;\n",
       "    }\n",
       "</style>\n",
       "<table border=\"1\" class=\"dataframe\">\n",
       "  <thead>\n",
       "    <tr style=\"text-align: right;\">\n",
       "      <th></th>\n",
       "      <th>Origin</th>\n",
       "      <th>interval_final</th>\n",
       "      <th>12</th>\n",
       "    </tr>\n",
       "  </thead>\n",
       "  <tbody>\n",
       "    <tr>\n",
       "      <th>0</th>\n",
       "      <td>2010</td>\n",
       "      <td>12</td>\n",
       "      <td>2259.67</td>\n",
       "    </tr>\n",
       "    <tr>\n",
       "      <th>6</th>\n",
       "      <td>2011</td>\n",
       "      <td>12</td>\n",
       "      <td>2238.46</td>\n",
       "    </tr>\n",
       "    <tr>\n",
       "      <th>11</th>\n",
       "      <td>2012</td>\n",
       "      <td>12</td>\n",
       "      <td>2181.35</td>\n",
       "    </tr>\n",
       "    <tr>\n",
       "      <th>15</th>\n",
       "      <td>2013</td>\n",
       "      <td>12</td>\n",
       "      <td>2179.85</td>\n",
       "    </tr>\n",
       "    <tr>\n",
       "      <th>18</th>\n",
       "      <td>2014</td>\n",
       "      <td>12</td>\n",
       "      <td>1830.85</td>\n",
       "    </tr>\n",
       "    <tr>\n",
       "      <th>20</th>\n",
       "      <td>2015</td>\n",
       "      <td>12</td>\n",
       "      <td>1912.17</td>\n",
       "    </tr>\n",
       "  </tbody>\n",
       "</table>\n",
       "</div>"
      ],
      "text/plain": [
       "    Origin  interval_final       12\n",
       "0     2010              12  2259.67\n",
       "6     2011              12  2238.46\n",
       "11    2012              12  2181.35\n",
       "15    2013              12  2179.85\n",
       "18    2014              12  1830.85\n",
       "20    2015              12  1912.17"
      ]
     },
     "execution_count": 22,
     "metadata": {},
     "output_type": "execute_result"
    }
   ],
   "source": [
    "df_12=data_new3['interval_final'].where(data_new3['interval_final']==12).dropna()\n",
    "list_12=pd.DataFrame(df_12).index.tolist()\n",
    "df_12=data_new3.iloc[list_12,:]\n",
    "df_12.columns=['Origin','interval_final','12']\n",
    "df_12"
   ]
  },
  {
   "cell_type": "code",
   "execution_count": 23,
   "id": "768436e6",
   "metadata": {},
   "outputs": [],
   "source": [
    "# Do the rest of the index for interval_final=24,36,48,60,72 respectively"
   ]
  },
  {
   "cell_type": "code",
   "execution_count": 24,
   "id": "96522940",
   "metadata": {},
   "outputs": [],
   "source": [
    "df_24=data_new3['interval_final'].where(data_new3['interval_final']==24).dropna()\n",
    "list_24=pd.DataFrame(df_24).index.tolist()\n",
    "df_24=data_new3.iloc[list_24,:]\n",
    "df_24.columns=['Origin','interval_final','24']"
   ]
  },
  {
   "cell_type": "code",
   "execution_count": 25,
   "id": "d4857f8a",
   "metadata": {},
   "outputs": [],
   "source": [
    "df_36=data_new3['interval_final'].where(data_new3['interval_final']==36).dropna()\n",
    "list_36=pd.DataFrame(df_36).index.tolist()\n",
    "df_36=data_new3.iloc[list_36,:]\n",
    "df_36.columns=['Origin','interval_final','36']"
   ]
  },
  {
   "cell_type": "code",
   "execution_count": 26,
   "id": "659ea0a0",
   "metadata": {},
   "outputs": [],
   "source": [
    "df_48=data_new3['interval_final'].where(data_new3['interval_final']==48).dropna()\n",
    "list_48=pd.DataFrame(df_48).index.tolist()\n",
    "df_48=data_new3.iloc[list_48,:]\n",
    "df_48.columns=['Origin','interval_final','48']"
   ]
  },
  {
   "cell_type": "code",
   "execution_count": 27,
   "id": "18eb0530",
   "metadata": {},
   "outputs": [],
   "source": [
    "df_60=data_new3['interval_final'].where(data_new3['interval_final']==60).dropna()\n",
    "list_60=pd.DataFrame(df_60).index.tolist()\n",
    "df_60=data_new3.iloc[list_60,:]\n",
    "df_60.columns=['Origin','interval_final','60']"
   ]
  },
  {
   "cell_type": "code",
   "execution_count": 28,
   "id": "d08e2b26",
   "metadata": {},
   "outputs": [],
   "source": [
    "df_72=data_new3['interval_final'].where(data_new3['interval_final']==72).dropna()\n",
    "list_72=pd.DataFrame(df_72).index.tolist()\n",
    "df_72=data_new3.iloc[list_72,:]\n",
    "df_72.columns=['Origin','interval_final','72']"
   ]
  },
  {
   "cell_type": "code",
   "execution_count": 29,
   "id": "2d76733a",
   "metadata": {},
   "outputs": [],
   "source": [
    "# concat important columns to generate the result matrix\n",
    "result1 =pd.merge(df_12[['Origin','12']],df_24[['Origin','24']],how='outer')\n",
    "result2 =pd.merge(result1,df_36[['Origin','36']],how='outer')\n",
    "result3 =pd.merge(result2,df_48[['Origin','48']],how='outer')\n",
    "result4 =pd.merge(result3,df_60[['Origin','60']],how='outer')\n",
    "result5 =pd.merge(result4,df_72[['Origin','72']],how='outer')"
   ]
  },
  {
   "cell_type": "code",
   "execution_count": 30,
   "id": "dfc6036e",
   "metadata": {},
   "outputs": [
    {
     "data": {
      "text/html": [
       "<div>\n",
       "<style scoped>\n",
       "    .dataframe tbody tr th:only-of-type {\n",
       "        vertical-align: middle;\n",
       "    }\n",
       "\n",
       "    .dataframe tbody tr th {\n",
       "        vertical-align: top;\n",
       "    }\n",
       "\n",
       "    .dataframe thead th {\n",
       "        text-align: right;\n",
       "    }\n",
       "</style>\n",
       "<table border=\"1\" class=\"dataframe\">\n",
       "  <thead>\n",
       "    <tr style=\"text-align: right;\">\n",
       "      <th></th>\n",
       "      <th>Origin</th>\n",
       "      <th>12</th>\n",
       "      <th>24</th>\n",
       "      <th>36</th>\n",
       "      <th>48</th>\n",
       "      <th>60</th>\n",
       "      <th>72</th>\n",
       "    </tr>\n",
       "  </thead>\n",
       "  <tbody>\n",
       "    <tr>\n",
       "      <th>0</th>\n",
       "      <td>2010-01-01 - 2010 -12-31</td>\n",
       "      <td>2259.67</td>\n",
       "      <td>3614.78</td>\n",
       "      <td>5274.81</td>\n",
       "      <td>6624.83</td>\n",
       "      <td>7930.69</td>\n",
       "      <td>8964.49</td>\n",
       "    </tr>\n",
       "    <tr>\n",
       "      <th>1</th>\n",
       "      <td>2011-01-01 - 2011 -12-31</td>\n",
       "      <td>2238.46</td>\n",
       "      <td>3745.82</td>\n",
       "      <td>5434.68</td>\n",
       "      <td>6702.11</td>\n",
       "      <td>7861.24</td>\n",
       "      <td>NaN</td>\n",
       "    </tr>\n",
       "    <tr>\n",
       "      <th>2</th>\n",
       "      <td>2012-01-01 - 2012 -12-31</td>\n",
       "      <td>2181.35</td>\n",
       "      <td>3874.69</td>\n",
       "      <td>5226.86</td>\n",
       "      <td>6501.85</td>\n",
       "      <td>NaN</td>\n",
       "      <td>NaN</td>\n",
       "    </tr>\n",
       "    <tr>\n",
       "      <th>3</th>\n",
       "      <td>2013-01-01 - 2013 -12-31</td>\n",
       "      <td>2179.85</td>\n",
       "      <td>3608.81</td>\n",
       "      <td>5226.75</td>\n",
       "      <td>NaN</td>\n",
       "      <td>NaN</td>\n",
       "      <td>NaN</td>\n",
       "    </tr>\n",
       "    <tr>\n",
       "      <th>4</th>\n",
       "      <td>2014-01-01 - 2014 -12-31</td>\n",
       "      <td>1830.85</td>\n",
       "      <td>3262.05</td>\n",
       "      <td>NaN</td>\n",
       "      <td>NaN</td>\n",
       "      <td>NaN</td>\n",
       "      <td>NaN</td>\n",
       "    </tr>\n",
       "    <tr>\n",
       "      <th>5</th>\n",
       "      <td>2015-01-01 - 2015 -12-31</td>\n",
       "      <td>1912.17</td>\n",
       "      <td>NaN</td>\n",
       "      <td>NaN</td>\n",
       "      <td>NaN</td>\n",
       "      <td>NaN</td>\n",
       "      <td>NaN</td>\n",
       "    </tr>\n",
       "  </tbody>\n",
       "</table>\n",
       "</div>"
      ],
      "text/plain": [
       "                     Origin       12       24       36       48       60  \\\n",
       "0  2010-01-01 - 2010 -12-31  2259.67  3614.78  5274.81  6624.83  7930.69   \n",
       "1  2011-01-01 - 2011 -12-31  2238.46  3745.82  5434.68  6702.11  7861.24   \n",
       "2  2012-01-01 - 2012 -12-31  2181.35  3874.69  5226.86  6501.85      NaN   \n",
       "3  2013-01-01 - 2013 -12-31  2179.85  3608.81  5226.75      NaN      NaN   \n",
       "4  2014-01-01 - 2014 -12-31  1830.85  3262.05      NaN      NaN      NaN   \n",
       "5  2015-01-01 - 2015 -12-31  1912.17      NaN      NaN      NaN      NaN   \n",
       "\n",
       "        72  \n",
       "0  8964.49  \n",
       "1      NaN  \n",
       "2      NaN  \n",
       "3      NaN  \n",
       "4      NaN  \n",
       "5      NaN  "
      ]
     },
     "execution_count": 30,
     "metadata": {},
     "output_type": "execute_result"
    }
   ],
   "source": [
    "new_origin=[]\n",
    "for i in result5['Origin']:\n",
    "    new_origin.append(str(i)+'-01-01 - '+str(i)+' -12-31')\n",
    "result5['Origin']=pd.Series(new_origin)\n",
    "result5"
   ]
  },
  {
   "cell_type": "code",
   "execution_count": null,
   "id": "515c78b2",
   "metadata": {},
   "outputs": [],
   "source": []
  },
  {
   "cell_type": "markdown",
   "id": "0fd68478",
   "metadata": {},
   "source": [
    "# Step 5: Calculate new customers"
   ]
  },
  {
   "cell_type": "code",
   "execution_count": 31,
   "id": "3fc455cb",
   "metadata": {},
   "outputs": [
    {
     "data": {
      "text/plain": [
       "earlist_year\n",
       "2010    172\n",
       "2011    170\n",
       "2012    163\n",
       "2013    180\n",
       "2014    155\n",
       "2015    160\n",
       "Name: CustomerID, dtype: int64"
      ]
     },
     "execution_count": 31,
     "metadata": {},
     "output_type": "execute_result"
    }
   ],
   "source": [
    "# Calculate new customers in each year\n",
    "df_count=data_new.groupby(['earlist_year'])['CustomerID'].nunique()\n",
    "df_count"
   ]
  },
  {
   "cell_type": "code",
   "execution_count": 32,
   "id": "ca65f306",
   "metadata": {},
   "outputs": [
    {
     "data": {
      "text/html": [
       "<div>\n",
       "<style scoped>\n",
       "    .dataframe tbody tr th:only-of-type {\n",
       "        vertical-align: middle;\n",
       "    }\n",
       "\n",
       "    .dataframe tbody tr th {\n",
       "        vertical-align: top;\n",
       "    }\n",
       "\n",
       "    .dataframe thead th {\n",
       "        text-align: right;\n",
       "    }\n",
       "</style>\n",
       "<table border=\"1\" class=\"dataframe\">\n",
       "  <thead>\n",
       "    <tr style=\"text-align: right;\">\n",
       "      <th></th>\n",
       "      <th>earlist_year</th>\n",
       "      <th>interval_final</th>\n",
       "      <th>Amount</th>\n",
       "      <th>new_user</th>\n",
       "    </tr>\n",
       "  </thead>\n",
       "  <tbody>\n",
       "    <tr>\n",
       "      <th>0</th>\n",
       "      <td>2010</td>\n",
       "      <td>12</td>\n",
       "      <td>2259.67</td>\n",
       "      <td>172</td>\n",
       "    </tr>\n",
       "    <tr>\n",
       "      <th>1</th>\n",
       "      <td>2010</td>\n",
       "      <td>24</td>\n",
       "      <td>3614.78</td>\n",
       "      <td>172</td>\n",
       "    </tr>\n",
       "    <tr>\n",
       "      <th>2</th>\n",
       "      <td>2010</td>\n",
       "      <td>36</td>\n",
       "      <td>5274.81</td>\n",
       "      <td>172</td>\n",
       "    </tr>\n",
       "    <tr>\n",
       "      <th>3</th>\n",
       "      <td>2010</td>\n",
       "      <td>48</td>\n",
       "      <td>6624.83</td>\n",
       "      <td>172</td>\n",
       "    </tr>\n",
       "    <tr>\n",
       "      <th>4</th>\n",
       "      <td>2010</td>\n",
       "      <td>60</td>\n",
       "      <td>7930.69</td>\n",
       "      <td>172</td>\n",
       "    </tr>\n",
       "    <tr>\n",
       "      <th>5</th>\n",
       "      <td>2010</td>\n",
       "      <td>72</td>\n",
       "      <td>8964.49</td>\n",
       "      <td>172</td>\n",
       "    </tr>\n",
       "    <tr>\n",
       "      <th>6</th>\n",
       "      <td>2011</td>\n",
       "      <td>12</td>\n",
       "      <td>2238.46</td>\n",
       "      <td>170</td>\n",
       "    </tr>\n",
       "    <tr>\n",
       "      <th>7</th>\n",
       "      <td>2011</td>\n",
       "      <td>24</td>\n",
       "      <td>3745.82</td>\n",
       "      <td>170</td>\n",
       "    </tr>\n",
       "    <tr>\n",
       "      <th>8</th>\n",
       "      <td>2011</td>\n",
       "      <td>36</td>\n",
       "      <td>5434.68</td>\n",
       "      <td>170</td>\n",
       "    </tr>\n",
       "    <tr>\n",
       "      <th>9</th>\n",
       "      <td>2011</td>\n",
       "      <td>48</td>\n",
       "      <td>6702.11</td>\n",
       "      <td>170</td>\n",
       "    </tr>\n",
       "    <tr>\n",
       "      <th>10</th>\n",
       "      <td>2011</td>\n",
       "      <td>60</td>\n",
       "      <td>7861.24</td>\n",
       "      <td>170</td>\n",
       "    </tr>\n",
       "    <tr>\n",
       "      <th>11</th>\n",
       "      <td>2012</td>\n",
       "      <td>12</td>\n",
       "      <td>2181.35</td>\n",
       "      <td>163</td>\n",
       "    </tr>\n",
       "    <tr>\n",
       "      <th>12</th>\n",
       "      <td>2012</td>\n",
       "      <td>24</td>\n",
       "      <td>3874.69</td>\n",
       "      <td>163</td>\n",
       "    </tr>\n",
       "    <tr>\n",
       "      <th>13</th>\n",
       "      <td>2012</td>\n",
       "      <td>36</td>\n",
       "      <td>5226.86</td>\n",
       "      <td>163</td>\n",
       "    </tr>\n",
       "    <tr>\n",
       "      <th>14</th>\n",
       "      <td>2012</td>\n",
       "      <td>48</td>\n",
       "      <td>6501.85</td>\n",
       "      <td>163</td>\n",
       "    </tr>\n",
       "    <tr>\n",
       "      <th>15</th>\n",
       "      <td>2013</td>\n",
       "      <td>12</td>\n",
       "      <td>2179.85</td>\n",
       "      <td>180</td>\n",
       "    </tr>\n",
       "    <tr>\n",
       "      <th>16</th>\n",
       "      <td>2013</td>\n",
       "      <td>24</td>\n",
       "      <td>3608.81</td>\n",
       "      <td>180</td>\n",
       "    </tr>\n",
       "    <tr>\n",
       "      <th>17</th>\n",
       "      <td>2013</td>\n",
       "      <td>36</td>\n",
       "      <td>5226.75</td>\n",
       "      <td>180</td>\n",
       "    </tr>\n",
       "    <tr>\n",
       "      <th>18</th>\n",
       "      <td>2014</td>\n",
       "      <td>12</td>\n",
       "      <td>1830.85</td>\n",
       "      <td>155</td>\n",
       "    </tr>\n",
       "    <tr>\n",
       "      <th>19</th>\n",
       "      <td>2014</td>\n",
       "      <td>24</td>\n",
       "      <td>3262.05</td>\n",
       "      <td>155</td>\n",
       "    </tr>\n",
       "    <tr>\n",
       "      <th>20</th>\n",
       "      <td>2015</td>\n",
       "      <td>12</td>\n",
       "      <td>1912.17</td>\n",
       "      <td>160</td>\n",
       "    </tr>\n",
       "  </tbody>\n",
       "</table>\n",
       "</div>"
      ],
      "text/plain": [
       "    earlist_year  interval_final   Amount  new_user\n",
       "0           2010              12  2259.67       172\n",
       "1           2010              24  3614.78       172\n",
       "2           2010              36  5274.81       172\n",
       "3           2010              48  6624.83       172\n",
       "4           2010              60  7930.69       172\n",
       "5           2010              72  8964.49       172\n",
       "6           2011              12  2238.46       170\n",
       "7           2011              24  3745.82       170\n",
       "8           2011              36  5434.68       170\n",
       "9           2011              48  6702.11       170\n",
       "10          2011              60  7861.24       170\n",
       "11          2012              12  2181.35       163\n",
       "12          2012              24  3874.69       163\n",
       "13          2012              36  5226.86       163\n",
       "14          2012              48  6501.85       163\n",
       "15          2013              12  2179.85       180\n",
       "16          2013              24  3608.81       180\n",
       "17          2013              36  5226.75       180\n",
       "18          2014              12  1830.85       155\n",
       "19          2014              24  3262.05       155\n",
       "20          2015              12  1912.17       160"
      ]
     },
     "execution_count": 32,
     "metadata": {},
     "output_type": "execute_result"
    }
   ],
   "source": [
    "# Inner join the df_count with data_new3 and reset the index name\n",
    "df_count_merge=pd.merge(data_new3,df_count,on='earlist_year')\n",
    "df_count_merge.rename(columns={'CustomerID':'new_user'})"
   ]
  },
  {
   "cell_type": "code",
   "execution_count": 33,
   "id": "f36f39e5",
   "metadata": {},
   "outputs": [],
   "source": [
    "# Code to the the derised result with 6 rows and 6 columns"
   ]
  },
  {
   "cell_type": "code",
   "execution_count": 34,
   "id": "cf7d3343",
   "metadata": {},
   "outputs": [],
   "source": [
    "df12_count=df_count_merge['interval_final'].where(df_count_merge['interval_final']==12).dropna()\n",
    "list_12_count=pd.DataFrame(df12_count).index.tolist()\n",
    "df12_count=df_count_merge.iloc[list_12_count,:]\n",
    "df12_count.columns=['Origin','interval_final','Amount','12']"
   ]
  },
  {
   "cell_type": "code",
   "execution_count": 35,
   "id": "a2a5e4b6",
   "metadata": {},
   "outputs": [],
   "source": [
    "df24_count=df_count_merge['interval_final'].where(df_count_merge['interval_final']==24).dropna()\n",
    "list_24_count=pd.DataFrame(df24_count).index.tolist()\n",
    "df24_count=df_count_merge.iloc[list_24_count,:]\n",
    "df24_count.columns=['Origin','interval_final','Amount','24']"
   ]
  },
  {
   "cell_type": "code",
   "execution_count": 36,
   "id": "3f514a38",
   "metadata": {},
   "outputs": [],
   "source": [
    "df36_count=df_count_merge['interval_final'].where(df_count_merge['interval_final']==36).dropna()\n",
    "list_36_count=pd.DataFrame(df36_count).index.tolist()\n",
    "df36_count=df_count_merge.iloc[list_36_count,:]\n",
    "df36_count.columns=['Origin','interval_final','Amount','36']"
   ]
  },
  {
   "cell_type": "code",
   "execution_count": 37,
   "id": "b07250f3",
   "metadata": {},
   "outputs": [],
   "source": [
    "df48_count=df_count_merge['interval_final'].where(df_count_merge['interval_final']==48).dropna()\n",
    "list_48_count=pd.DataFrame(df48_count).index.tolist()\n",
    "df48_count=df_count_merge.iloc[list_48_count,:]\n",
    "df48_count.columns=['Origin','interval_final','Amount','48']"
   ]
  },
  {
   "cell_type": "code",
   "execution_count": 38,
   "id": "ee4539a1",
   "metadata": {},
   "outputs": [],
   "source": [
    "df60_count=df_count_merge['interval_final'].where(df_count_merge['interval_final']==60).dropna()\n",
    "list_60_count=pd.DataFrame(df60_count).index.tolist()\n",
    "df60_count=df_count_merge.iloc[list_60_count,:]\n",
    "df60_count.columns=['Origin','interval_final','Amount','60']"
   ]
  },
  {
   "cell_type": "code",
   "execution_count": 39,
   "id": "d1eaf84a",
   "metadata": {},
   "outputs": [],
   "source": [
    "df72_count=df_count_merge['interval_final'].where(df_count_merge['interval_final']==72).dropna()\n",
    "list_72_count=pd.DataFrame(df72_count).index.tolist()\n",
    "df72_count=df_count_merge.iloc[list_72_count,:]\n",
    "df72_count.columns=['Origin','interval_final','Amount','72']"
   ]
  },
  {
   "cell_type": "code",
   "execution_count": 40,
   "id": "a8b407a1",
   "metadata": {},
   "outputs": [],
   "source": [
    "result1_count =pd.merge(df12_count[['Origin','12']],df24_count[['Origin','24']],how='outer')\n",
    "result2_count =pd.merge(result1_count,df36_count[['Origin','36']],how='outer')\n",
    "result3_count =pd.merge(result2_count,df48_count[['Origin','48']],how='outer')\n",
    "result4_count =pd.merge(result3_count,df60_count[['Origin','60']],how='outer')\n",
    "result5_count =pd.merge(result4_count,df72_count[['Origin','72']],how='outer')"
   ]
  },
  {
   "cell_type": "code",
   "execution_count": 41,
   "id": "55628da5",
   "metadata": {},
   "outputs": [
    {
     "data": {
      "text/html": [
       "<div>\n",
       "<style scoped>\n",
       "    .dataframe tbody tr th:only-of-type {\n",
       "        vertical-align: middle;\n",
       "    }\n",
       "\n",
       "    .dataframe tbody tr th {\n",
       "        vertical-align: top;\n",
       "    }\n",
       "\n",
       "    .dataframe thead th {\n",
       "        text-align: right;\n",
       "    }\n",
       "</style>\n",
       "<table border=\"1\" class=\"dataframe\">\n",
       "  <thead>\n",
       "    <tr style=\"text-align: right;\">\n",
       "      <th></th>\n",
       "      <th>Origin</th>\n",
       "      <th>12</th>\n",
       "      <th>24</th>\n",
       "      <th>36</th>\n",
       "      <th>48</th>\n",
       "      <th>60</th>\n",
       "      <th>72</th>\n",
       "    </tr>\n",
       "  </thead>\n",
       "  <tbody>\n",
       "    <tr>\n",
       "      <th>0</th>\n",
       "      <td>2010-01-01 - 2010 -12-31</td>\n",
       "      <td>172</td>\n",
       "      <td>172.0</td>\n",
       "      <td>172.0</td>\n",
       "      <td>172.0</td>\n",
       "      <td>172.0</td>\n",
       "      <td>172.0</td>\n",
       "    </tr>\n",
       "    <tr>\n",
       "      <th>1</th>\n",
       "      <td>2011-01-01 - 2011 -12-31</td>\n",
       "      <td>170</td>\n",
       "      <td>170.0</td>\n",
       "      <td>170.0</td>\n",
       "      <td>170.0</td>\n",
       "      <td>170.0</td>\n",
       "      <td>NaN</td>\n",
       "    </tr>\n",
       "    <tr>\n",
       "      <th>2</th>\n",
       "      <td>2012-01-01 - 2012 -12-31</td>\n",
       "      <td>163</td>\n",
       "      <td>163.0</td>\n",
       "      <td>163.0</td>\n",
       "      <td>163.0</td>\n",
       "      <td>NaN</td>\n",
       "      <td>NaN</td>\n",
       "    </tr>\n",
       "    <tr>\n",
       "      <th>3</th>\n",
       "      <td>2013-01-01 - 2013 -12-31</td>\n",
       "      <td>180</td>\n",
       "      <td>180.0</td>\n",
       "      <td>180.0</td>\n",
       "      <td>NaN</td>\n",
       "      <td>NaN</td>\n",
       "      <td>NaN</td>\n",
       "    </tr>\n",
       "    <tr>\n",
       "      <th>4</th>\n",
       "      <td>2014-01-01 - 2014 -12-31</td>\n",
       "      <td>155</td>\n",
       "      <td>155.0</td>\n",
       "      <td>NaN</td>\n",
       "      <td>NaN</td>\n",
       "      <td>NaN</td>\n",
       "      <td>NaN</td>\n",
       "    </tr>\n",
       "    <tr>\n",
       "      <th>5</th>\n",
       "      <td>2015-01-01 - 2015 -12-31</td>\n",
       "      <td>160</td>\n",
       "      <td>NaN</td>\n",
       "      <td>NaN</td>\n",
       "      <td>NaN</td>\n",
       "      <td>NaN</td>\n",
       "      <td>NaN</td>\n",
       "    </tr>\n",
       "  </tbody>\n",
       "</table>\n",
       "</div>"
      ],
      "text/plain": [
       "                     Origin   12     24     36     48     60     72\n",
       "0  2010-01-01 - 2010 -12-31  172  172.0  172.0  172.0  172.0  172.0\n",
       "1  2011-01-01 - 2011 -12-31  170  170.0  170.0  170.0  170.0    NaN\n",
       "2  2012-01-01 - 2012 -12-31  163  163.0  163.0  163.0    NaN    NaN\n",
       "3  2013-01-01 - 2013 -12-31  180  180.0  180.0    NaN    NaN    NaN\n",
       "4  2014-01-01 - 2014 -12-31  155  155.0    NaN    NaN    NaN    NaN\n",
       "5  2015-01-01 - 2015 -12-31  160    NaN    NaN    NaN    NaN    NaN"
      ]
     },
     "execution_count": 41,
     "metadata": {},
     "output_type": "execute_result"
    }
   ],
   "source": [
    "new_origin_count=[]\n",
    "for i in result5_count['Origin']:\n",
    "    new_origin_count.append(str(i)+'-01-01 - '+str(i)+' -12-31')\n",
    "result5_count['Origin']=pd.Series(new_origin_count)\n",
    "result5_count"
   ]
  },
  {
   "cell_type": "code",
   "execution_count": null,
   "id": "b1a54962",
   "metadata": {},
   "outputs": [],
   "source": []
  },
  {
   "cell_type": "markdown",
   "id": "365974a7",
   "metadata": {},
   "source": [
    "# Step 6: Historic CLV"
   ]
  },
  {
   "cell_type": "code",
   "execution_count": 42,
   "id": "362990f3",
   "metadata": {},
   "outputs": [
    {
     "data": {
      "text/html": [
       "<div>\n",
       "<style scoped>\n",
       "    .dataframe tbody tr th:only-of-type {\n",
       "        vertical-align: middle;\n",
       "    }\n",
       "\n",
       "    .dataframe tbody tr th {\n",
       "        vertical-align: top;\n",
       "    }\n",
       "\n",
       "    .dataframe thead th {\n",
       "        text-align: right;\n",
       "    }\n",
       "</style>\n",
       "<table border=\"1\" class=\"dataframe\">\n",
       "  <thead>\n",
       "    <tr style=\"text-align: right;\">\n",
       "      <th></th>\n",
       "      <th>Origin</th>\n",
       "      <th>12</th>\n",
       "      <th>24</th>\n",
       "      <th>36</th>\n",
       "      <th>48</th>\n",
       "      <th>60</th>\n",
       "      <th>72</th>\n",
       "    </tr>\n",
       "  </thead>\n",
       "  <tbody>\n",
       "    <tr>\n",
       "      <th>0</th>\n",
       "      <td>2010-01-01 - 2010 -12-31</td>\n",
       "      <td>13.14</td>\n",
       "      <td>21.02</td>\n",
       "      <td>30.67</td>\n",
       "      <td>38.52</td>\n",
       "      <td>46.11</td>\n",
       "      <td>52.12</td>\n",
       "    </tr>\n",
       "    <tr>\n",
       "      <th>1</th>\n",
       "      <td>2011-01-01 - 2011 -12-31</td>\n",
       "      <td>13.17</td>\n",
       "      <td>22.03</td>\n",
       "      <td>31.97</td>\n",
       "      <td>39.42</td>\n",
       "      <td>46.24</td>\n",
       "      <td>NaN</td>\n",
       "    </tr>\n",
       "    <tr>\n",
       "      <th>2</th>\n",
       "      <td>2012-01-01 - 2012 -12-31</td>\n",
       "      <td>13.38</td>\n",
       "      <td>23.77</td>\n",
       "      <td>32.07</td>\n",
       "      <td>39.89</td>\n",
       "      <td>NaN</td>\n",
       "      <td>NaN</td>\n",
       "    </tr>\n",
       "    <tr>\n",
       "      <th>3</th>\n",
       "      <td>2013-01-01 - 2013 -12-31</td>\n",
       "      <td>12.11</td>\n",
       "      <td>20.05</td>\n",
       "      <td>29.04</td>\n",
       "      <td>NaN</td>\n",
       "      <td>NaN</td>\n",
       "      <td>NaN</td>\n",
       "    </tr>\n",
       "    <tr>\n",
       "      <th>4</th>\n",
       "      <td>2014-01-01 - 2014 -12-31</td>\n",
       "      <td>11.81</td>\n",
       "      <td>21.05</td>\n",
       "      <td>NaN</td>\n",
       "      <td>NaN</td>\n",
       "      <td>NaN</td>\n",
       "      <td>NaN</td>\n",
       "    </tr>\n",
       "    <tr>\n",
       "      <th>5</th>\n",
       "      <td>2015-01-01 - 2015 -12-31</td>\n",
       "      <td>11.95</td>\n",
       "      <td>NaN</td>\n",
       "      <td>NaN</td>\n",
       "      <td>NaN</td>\n",
       "      <td>NaN</td>\n",
       "      <td>NaN</td>\n",
       "    </tr>\n",
       "  </tbody>\n",
       "</table>\n",
       "</div>"
      ],
      "text/plain": [
       "                     Origin     12     24     36     48     60     72\n",
       "0  2010-01-01 - 2010 -12-31  13.14  21.02  30.67  38.52  46.11  52.12\n",
       "1  2011-01-01 - 2011 -12-31  13.17  22.03  31.97  39.42  46.24    NaN\n",
       "2  2012-01-01 - 2012 -12-31  13.38  23.77  32.07  39.89    NaN    NaN\n",
       "3  2013-01-01 - 2013 -12-31  12.11  20.05  29.04    NaN    NaN    NaN\n",
       "4  2014-01-01 - 2014 -12-31  11.81  21.05    NaN    NaN    NaN    NaN\n",
       "5  2015-01-01 - 2015 -12-31  11.95    NaN    NaN    NaN    NaN    NaN"
      ]
     },
     "execution_count": 42,
     "metadata": {},
     "output_type": "execute_result"
    }
   ],
   "source": [
    "# Divide two DataFrame to get the final result\n",
    "final_result=result5.iloc[:,1:]/result5_count.iloc[:,1:]\n",
    "final_result=pd.concat([result5[['Origin']],final_result],axis=1)\n",
    "final_result=final_result.round(2)\n",
    "final_result"
   ]
  },
  {
   "cell_type": "code",
   "execution_count": 43,
   "id": "e70bf101",
   "metadata": {},
   "outputs": [],
   "source": [
    "final_result.set_index(final_result[\"Origin\"], inplace=True)\n",
    "del(final_result['Origin'])\n",
    "plot_result=final_result.T\n",
    "plt.style.use('ggplot')"
   ]
  },
  {
   "cell_type": "code",
   "execution_count": 44,
   "id": "bca61adb",
   "metadata": {},
   "outputs": [
    {
     "data": {
      "image/png": "[encoded data removed]",
      "text/plain": [
       "<Figure size 720x504 with 1 Axes>"
      ]
     },
     "metadata": {},
     "output_type": "display_data"
    }
   ],
   "source": [
    "# Plot the results for each year on the same graph\n",
    "plot_result.plot(figsize=(10,7),marker='o')\n",
    "plt.grid(color='white')\n",
    "plt.xlabel('Age')\n",
    "plt.ylabel('HistoricCLV')\n",
    "plt.title('Historic CLV')\n",
    "plt.show()"
   ]
  },
  {
   "cell_type": "code",
   "execution_count": 45,
   "id": "98e959e3",
   "metadata": {},
   "outputs": [
    {
     "data": {
      "text/html": [
       "<div>\n",
       "<style scoped>\n",
       "    .dataframe tbody tr th:only-of-type {\n",
       "        vertical-align: middle;\n",
       "    }\n",
       "\n",
       "    .dataframe tbody tr th {\n",
       "        vertical-align: top;\n",
       "    }\n",
       "\n",
       "    .dataframe thead th {\n",
       "        text-align: right;\n",
       "    }\n",
       "</style>\n",
       "<table border=\"1\" class=\"dataframe\">\n",
       "  <thead>\n",
       "    <tr style=\"text-align: right;\">\n",
       "      <th></th>\n",
       "      <th>Age</th>\n",
       "      <th>HistoricCLV</th>\n",
       "    </tr>\n",
       "  </thead>\n",
       "  <tbody>\n",
       "    <tr>\n",
       "      <th>0</th>\n",
       "      <td>12</td>\n",
       "      <td>12.59</td>\n",
       "    </tr>\n",
       "    <tr>\n",
       "      <th>1</th>\n",
       "      <td>24</td>\n",
       "      <td>21.58</td>\n",
       "    </tr>\n",
       "    <tr>\n",
       "      <th>2</th>\n",
       "      <td>36</td>\n",
       "      <td>30.94</td>\n",
       "    </tr>\n",
       "    <tr>\n",
       "      <th>3</th>\n",
       "      <td>48</td>\n",
       "      <td>39.28</td>\n",
       "    </tr>\n",
       "    <tr>\n",
       "      <th>4</th>\n",
       "      <td>60</td>\n",
       "      <td>46.18</td>\n",
       "    </tr>\n",
       "    <tr>\n",
       "      <th>5</th>\n",
       "      <td>72</td>\n",
       "      <td>52.12</td>\n",
       "    </tr>\n",
       "  </tbody>\n",
       "</table>\n",
       "</div>"
      ],
      "text/plain": [
       "   Age  HistoricCLV\n",
       "0   12        12.59\n",
       "1   24        21.58\n",
       "2   36        30.94\n",
       "3   48        39.28\n",
       "4   60        46.18\n",
       "5   72        52.12"
      ]
     },
     "execution_count": 45,
     "metadata": {},
     "output_type": "execute_result"
    }
   ],
   "source": [
    "# Combine all data to create a single curve (weighted by the number of customers in each group)\n",
    "historic_dic={'Age':[12,24,36,48,60,72],\n",
    "             'HistoricCLV':[final_result['12'].mean(),final_result['24'].mean(),final_result['36'].mean(),\n",
    "                    final_result['48'].mean(),final_result['60'].mean(),final_result['72'].mean()]}\n",
    "historic_clv=pd.DataFrame(historic_dic).round(2)\n",
    "historic_clv"
   ]
  },
  {
   "cell_type": "code",
   "execution_count": 46,
   "id": "08b26bd2",
   "metadata": {},
   "outputs": [
    {
     "data": {
      "image/png": "[encoded data removed]",
      "text/plain": [
       "<Figure size 720x504 with 1 Axes>"
      ]
     },
     "metadata": {},
     "output_type": "display_data"
    }
   ],
   "source": [
    "# Plot the result\n",
    "plt.figure(figsize=(10,7))\n",
    "plt.plot(historic_clv['Age'],historic_clv['HistoricCLV'],marker='o')\n",
    "plt.grid(color='white')\n",
    "plt.xlabel('Age')\n",
    "plt.ylabel('HistoricCLV')\n",
    "plt.title('Historic CLV')\n",
    "plt.show()"
   ]
  },
  {
   "cell_type": "code",
   "execution_count": null,
   "id": "22387d4d",
   "metadata": {},
   "outputs": [],
   "source": []
  },
  {
   "cell_type": "markdown",
   "id": "a1024bdb",
   "metadata": {},
   "source": [
    "# Step 7: Interpreting the results"
   ]
  },
  {
   "cell_type": "markdown",
   "id": "e15318be",
   "metadata": {},
   "source": [
    "### Interpretation: \n",
    "The historic CLV shows the average cumulative transaction amount per customer over time. From the plot we can get that the existing customers are valuable because they are willing to make transactions after they purchased at the first time. \n",
    "\n",
    "### Question 1: How much have customers acquired in 2011 spent to date?\n",
    "Their cumulative transaction amount is 8964.49 dolloars. On average, their transaction amount is 52.12 dollars per person from 2011 to date. \n",
    "\n",
    "### Question 2: Do each group of customers exhibit similar or different patterns of spending?\n",
    "Overall, customers in each group exhibit similar patterns of spending, however, there is still some slight difference. For instance, within a short period (12 months, 24 months or 36 months after), customers in each group shows different transaction pattern, but with time goes on, the difference becomes smaller and smaller, which indicates that it's important for companies to convert new customers to existing customers after new customers made the first transaction. "
   ]
  },
  {
   "cell_type": "code",
   "execution_count": null,
   "id": "ced627ca",
   "metadata": {},
   "outputs": [],
   "source": []
  }
 ],
 "metadata": {
  "kernelspec": {
   "display_name": "Python [conda env:yiyi] *",
   "language": "python",
   "name": "conda-env-yiyi-py"
  },
  "language_info": {
   "codemirror_mode": {
    "name": "ipython",
    "version": 3
   },
   "file_extension": ".py",
   "mimetype": "text/x-python",
   "name": "python",
   "nbconvert_exporter": "python",
   "pygments_lexer": "ipython3",
   "version": "3.8.11"
  }
 },
 "nbformat": 4,
 "nbformat_minor": 5
}
